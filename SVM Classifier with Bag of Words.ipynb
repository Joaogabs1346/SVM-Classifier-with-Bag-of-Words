{
 "cells": [
  {
   "cell_type": "code",
   "execution_count": 1,
   "id": "16270c62",
   "metadata": {},
   "outputs": [],
   "source": [
    "import gzip\n",
    "import json"
   ]
  },
  {
   "cell_type": "code",
   "execution_count": 2,
   "id": "3ef36e8e",
   "metadata": {},
   "outputs": [],
   "source": [
    "# Opening dataset\n",
    "corpus = list()\n",
    "with gzip.open('ecommerce.json.gz') as fp:\n",
    "    for line in fp:\n",
    "        entry = line.decode('utf8')\n",
    "        corpus.append(json.loads(entry))"
   ]
  },
  {
   "cell_type": "code",
   "execution_count": 3,
   "id": "336f481e",
   "metadata": {},
   "outputs": [
    {
     "name": "stdout",
     "output_type": "stream",
     "text": [
      "{'_id': 8691927,\n",
      " 'cat': ' Suplementos e Vitaminas',\n",
      " 'descr': 'O Power Óleo de Cártamo da Power Foods, chega ao mercado com alta '\n",
      "          'concentração em suas capsulas com 1000mg/caps, a absorção delas é '\n",
      "          'super-rápidas com a tecnologia Softgel e o melhor ainda, contem '\n",
      "          'vitamina E.O Óleo, possui ácido linoleico, mais conhecido como '\n",
      "          'Omega 6, e também acido oleico conhecido como Omega 9. Esses são '\n",
      "          'ácidos graxos essenciais, ou seja aqueles que o nosso corpo não '\n",
      "          'produz e que devem ser adquiridos por meio da dieta alimentar, '\n",
      "          'contribuindo assim no controle da produção do LDL (colesterol ruim) '\n",
      "          'do organismo, tudo isso reunido em uma única capsulas irá lhe '\n",
      "          'proporcionar a queima de gordura localizada.O óleo de Cártamo é '\n",
      "          'derivado de uma planta asiática, parente do girassol. Suas sementes '\n",
      "          'atuam no organismo destruindo a gordura localizada, principalmente '\n",
      "          'do abdome. Em sua formula possui os seguintes ingredientes: óleo de '\n",
      "          'Cártamo, Vitamina E e cápsula (gelatina, glicerina e água).Power '\n",
      "          'Goji Berry - PowerFoodsO Goji é uma fruta consumida há milhares de '\n",
      "          'anos no Sul da Ásia, e é proveniente das montanhas do Tibete. Desde '\n",
      "          'que seu consumo foi popularizado por estrelas de cinema, que o '\n",
      "          'utilizam na manutenção do peso, o Goji se tornou um grande fenômeno '\n",
      "          'no Brasil. Dentre seus inúmeros benefícios (detalhados abaixo), o '\n",
      "          'Goji tem se mostrado principalmente muito eficaz em dietas '\n",
      "          'emagrecedoras, se tornando um grande aliado na guerra contra a '\n",
      "          'balança.Principais Benefícios - Power Goji BerryO principal '\n",
      "          'benefício do Goji é pelo fato de ser classificado como um '\n",
      "          'superalimento, isso se deve ao seu alto poder antioxidante, o que '\n",
      "          'ajuda no combate ao envelhecimento.Além disso, é rico em minerais e '\n",
      "          'vitaminas essenciais ao bom funcionamento do organismo: um ótimo '\n",
      "          'exemplo é sua concentração de Vitamina C, que é de cerca de 2500 '\n",
      "          'miligramas a cada 100g gramas da fruta seca, 50 vezes mais que a '\n",
      "          'Laranja.A lista de benefícios é enorme e inclui: - Mais energia '\n",
      "          'para atividades físicas.- Estímulo à produção do hormônio '\n",
      "          'serotonina ( conhecido como o hormônio da felicidade).- '\n",
      "          'Propriedades anti-inflamatórias.- Ajuda no combate à hipertensão.- '\n",
      "          'Aliado do combate à doenças relacionadas aos olhos- Ácidos Graxos '\n",
      "          'Insaturados.- Entre outros benefícios.Todas essas características '\n",
      "          'juntas provam que o Goji realmente faz por merecer o título de '\n",
      "          'superalimento e o seu crescente consumo em todo o mundo, '\n",
      "          'principalmente entre as pessoas que buscam melhor qualidade vida, '\n",
      "          'mais energia e alcançar (e manter) o peso desejado.',\n",
      " 'features': {},\n",
      " 'image_urls': ['http://iacom1-a.akamaihd.net/produtos/01/00/sku/8691/9/8691930_1GG.jpg'],\n",
      " 'name': 'Combo Emagrecimento E Metabolismo - Power Óleo De Cártamo  Power '\n",
      "         'Goji Berry - Powerfoods',\n",
      " 'ratings': 0,\n",
      " 'stars': 0.0,\n",
      " 'url': 'http://www.americanas.com.br/produto/8691927/combo-emagrecimento-e-metabolismo-power-oleo-de-cartamo-power-goji-berry-powerfoods??chave=dp_suplementos-e-vitaminas_dt6'}\n"
     ]
    }
   ],
   "source": [
    "from pprint import pprint\n",
    "pprint(corpus[15])"
   ]
  },
  {
   "cell_type": "code",
   "execution_count": 4,
   "id": "4bf69a67",
   "metadata": {},
   "outputs": [],
   "source": [
    "# Building a classifier for products and categories (considering only the first 10 thousand products)\n",
    "dataset = list()\n",
    "for entry in corpus[:10000]:\n",
    "    if 'cat' in entry:\n",
    "        dataset.append( (entry['name'], entry['cat'].lower().strip()) )"
   ]
  },
  {
   "cell_type": "code",
   "execution_count": 5,
   "id": "a32c3fd0",
   "metadata": {},
   "outputs": [
    {
     "data": {
      "text/plain": [
       "9953"
      ]
     },
     "execution_count": 5,
     "metadata": {},
     "output_type": "execute_result"
    }
   ],
   "source": [
    "len(dataset)"
   ]
  },
  {
   "cell_type": "code",
   "execution_count": 6,
   "id": "b288b698",
   "metadata": {},
   "outputs": [
    {
     "name": "stdout",
     "output_type": "stream",
     "text": [
      "[('bebês', 1208),\n",
      " ('eletroportáteis', 1052),\n",
      " ('automotivo', 915),\n",
      " ('utilidades domésticas', 857),\n",
      " ('suplementos e vitaminas', 787),\n",
      " ('ar-condicionado e aquecedores', 754),\n",
      " ('informática', 706),\n",
      " ('cama, mesa e banho', 670),\n",
      " ('tv e home theater', 644),\n",
      " ('perfumaria', 532),\n",
      " ('beleza e saúde', 497),\n",
      " ('dvds e blu-ray', 433),\n",
      " ('relógios', 410),\n",
      " ('pet shop', 391),\n",
      " ('instrumentos musicais', 44),\n",
      " ('celulares e telefones', 18),\n",
      " ('eletrodomésticos', 16),\n",
      " ('áudio', 13),\n",
      " ('alimentos e bebidas', 2),\n",
      " ('livros', 2),\n",
      " ('brinquedos', 1),\n",
      " ('linha industrial', 1)]\n"
     ]
    }
   ],
   "source": [
    "# How many distinct categories do we have and how many items per category?\n",
    "from collections import Counter\n",
    "counter = Counter([cat for prod, cat in dataset])\n",
    "pprint(counter.most_common())"
   ]
  },
  {
   "cell_type": "markdown",
   "id": "55207f3b",
   "metadata": {},
   "source": [
    "# Building an SVM Classifier with Bag of Words"
   ]
  },
  {
   "cell_type": "code",
   "execution_count": 7,
   "id": "e45ec1aa",
   "metadata": {},
   "outputs": [],
   "source": [
    "from sklearn.pipeline import Pipeline\n",
    "from sklearn.svm import SVC\n",
    "from sklearn.preprocessing import LabelEncoder\n",
    "from sklearn.feature_extraction.text import TfidfVectorizer\n",
    "from sklearn.feature_extraction.text import CountVectorizer"
   ]
  },
  {
   "cell_type": "code",
   "execution_count": 8,
   "id": "0ce99cd4",
   "metadata": {},
   "outputs": [],
   "source": [
    "import nltk\n",
    "stopwords = nltk.corpus.stopwords.words('portuguese')"
   ]
  },
  {
   "cell_type": "code",
   "execution_count": 9,
   "id": "3184f2cd",
   "metadata": {},
   "outputs": [],
   "source": [
    "# Building the SVM model with Pipeline\n",
    "modelo = Pipeline([('vect', TfidfVectorizer()), ('clf', SVC(kernel = 'linear', probability = True))])"
   ]
  },
  {
   "cell_type": "code",
   "execution_count": 10,
   "id": "133ec688",
   "metadata": {},
   "outputs": [],
   "source": [
    "# Object for Normalizate of labels\n",
    "encoder = LabelEncoder()"
   ]
  },
  {
   "cell_type": "code",
   "execution_count": 11,
   "id": "0c2106de",
   "metadata": {},
   "outputs": [
    {
     "data": {
      "text/plain": [
       "9953"
      ]
     },
     "execution_count": 11,
     "metadata": {},
     "output_type": "execute_result"
    }
   ],
   "source": [
    "# Getting data and labels\n",
    "data = [prod for prod, cat in dataset]\n",
    "labels = [cat for prod, cat in dataset]\n",
    "len(data)"
   ]
  },
  {
   "cell_type": "code",
   "execution_count": 12,
   "id": "c700ea55",
   "metadata": {},
   "outputs": [],
   "source": [
    "# Normalization of labels\n",
    "target = encoder.fit_transform(labels)"
   ]
  },
  {
   "cell_type": "code",
   "execution_count": 13,
   "id": "0946b852",
   "metadata": {},
   "outputs": [
    {
     "data": {
      "text/plain": [
       "'ar-condicionado e aquecedores'"
      ]
     },
     "execution_count": 13,
     "metadata": {},
     "output_type": "execute_result"
    }
   ],
   "source": [
    "# Items\n",
    "encoder.classes_.item(1)"
   ]
  },
  {
   "cell_type": "code",
   "execution_count": 14,
   "id": "a68fd4ad",
   "metadata": {},
   "outputs": [
    {
     "data": {
      "text/html": [
       "<style>#sk-container-id-1 {color: black;background-color: white;}#sk-container-id-1 pre{padding: 0;}#sk-container-id-1 div.sk-toggleable {background-color: white;}#sk-container-id-1 label.sk-toggleable__label {cursor: pointer;display: block;width: 100%;margin-bottom: 0;padding: 0.3em;box-sizing: border-box;text-align: center;}#sk-container-id-1 label.sk-toggleable__label-arrow:before {content: \"▸\";float: left;margin-right: 0.25em;color: #696969;}#sk-container-id-1 label.sk-toggleable__label-arrow:hover:before {color: black;}#sk-container-id-1 div.sk-estimator:hover label.sk-toggleable__label-arrow:before {color: black;}#sk-container-id-1 div.sk-toggleable__content {max-height: 0;max-width: 0;overflow: hidden;text-align: left;background-color: #f0f8ff;}#sk-container-id-1 div.sk-toggleable__content pre {margin: 0.2em;color: black;border-radius: 0.25em;background-color: #f0f8ff;}#sk-container-id-1 input.sk-toggleable__control:checked~div.sk-toggleable__content {max-height: 200px;max-width: 100%;overflow: auto;}#sk-container-id-1 input.sk-toggleable__control:checked~label.sk-toggleable__label-arrow:before {content: \"▾\";}#sk-container-id-1 div.sk-estimator input.sk-toggleable__control:checked~label.sk-toggleable__label {background-color: #d4ebff;}#sk-container-id-1 div.sk-label input.sk-toggleable__control:checked~label.sk-toggleable__label {background-color: #d4ebff;}#sk-container-id-1 input.sk-hidden--visually {border: 0;clip: rect(1px 1px 1px 1px);clip: rect(1px, 1px, 1px, 1px);height: 1px;margin: -1px;overflow: hidden;padding: 0;position: absolute;width: 1px;}#sk-container-id-1 div.sk-estimator {font-family: monospace;background-color: #f0f8ff;border: 1px dotted black;border-radius: 0.25em;box-sizing: border-box;margin-bottom: 0.5em;}#sk-container-id-1 div.sk-estimator:hover {background-color: #d4ebff;}#sk-container-id-1 div.sk-parallel-item::after {content: \"\";width: 100%;border-bottom: 1px solid gray;flex-grow: 1;}#sk-container-id-1 div.sk-label:hover label.sk-toggleable__label {background-color: #d4ebff;}#sk-container-id-1 div.sk-serial::before {content: \"\";position: absolute;border-left: 1px solid gray;box-sizing: border-box;top: 0;bottom: 0;left: 50%;z-index: 0;}#sk-container-id-1 div.sk-serial {display: flex;flex-direction: column;align-items: center;background-color: white;padding-right: 0.2em;padding-left: 0.2em;position: relative;}#sk-container-id-1 div.sk-item {position: relative;z-index: 1;}#sk-container-id-1 div.sk-parallel {display: flex;align-items: stretch;justify-content: center;background-color: white;position: relative;}#sk-container-id-1 div.sk-item::before, #sk-container-id-1 div.sk-parallel-item::before {content: \"\";position: absolute;border-left: 1px solid gray;box-sizing: border-box;top: 0;bottom: 0;left: 50%;z-index: -1;}#sk-container-id-1 div.sk-parallel-item {display: flex;flex-direction: column;z-index: 1;position: relative;background-color: white;}#sk-container-id-1 div.sk-parallel-item:first-child::after {align-self: flex-end;width: 50%;}#sk-container-id-1 div.sk-parallel-item:last-child::after {align-self: flex-start;width: 50%;}#sk-container-id-1 div.sk-parallel-item:only-child::after {width: 0;}#sk-container-id-1 div.sk-dashed-wrapped {border: 1px dashed gray;margin: 0 0.4em 0.5em 0.4em;box-sizing: border-box;padding-bottom: 0.4em;background-color: white;}#sk-container-id-1 div.sk-label label {font-family: monospace;font-weight: bold;display: inline-block;line-height: 1.2em;}#sk-container-id-1 div.sk-label-container {text-align: center;}#sk-container-id-1 div.sk-container {/* jupyter's `normalize.less` sets `[hidden] { display: none; }` but bootstrap.min.css set `[hidden] { display: none !important; }` so we also need the `!important` here to be able to override the default hidden behavior on the sphinx rendered scikit-learn.org. See: https://github.com/scikit-learn/scikit-learn/issues/21755 */display: inline-block !important;position: relative;}#sk-container-id-1 div.sk-text-repr-fallback {display: none;}</style><div id=\"sk-container-id-1\" class=\"sk-top-container\"><div class=\"sk-text-repr-fallback\"><pre>Pipeline(steps=[(&#x27;vect&#x27;, TfidfVectorizer()),\n",
       "                (&#x27;clf&#x27;, SVC(kernel=&#x27;linear&#x27;, probability=True))])</pre><b>In a Jupyter environment, please rerun this cell to show the HTML representation or trust the notebook. <br />On GitHub, the HTML representation is unable to render, please try loading this page with nbviewer.org.</b></div><div class=\"sk-container\" hidden><div class=\"sk-item sk-dashed-wrapped\"><div class=\"sk-label-container\"><div class=\"sk-label sk-toggleable\"><input class=\"sk-toggleable__control sk-hidden--visually\" id=\"sk-estimator-id-1\" type=\"checkbox\" ><label for=\"sk-estimator-id-1\" class=\"sk-toggleable__label sk-toggleable__label-arrow\">Pipeline</label><div class=\"sk-toggleable__content\"><pre>Pipeline(steps=[(&#x27;vect&#x27;, TfidfVectorizer()),\n",
       "                (&#x27;clf&#x27;, SVC(kernel=&#x27;linear&#x27;, probability=True))])</pre></div></div></div><div class=\"sk-serial\"><div class=\"sk-item\"><div class=\"sk-estimator sk-toggleable\"><input class=\"sk-toggleable__control sk-hidden--visually\" id=\"sk-estimator-id-2\" type=\"checkbox\" ><label for=\"sk-estimator-id-2\" class=\"sk-toggleable__label sk-toggleable__label-arrow\">TfidfVectorizer</label><div class=\"sk-toggleable__content\"><pre>TfidfVectorizer()</pre></div></div></div><div class=\"sk-item\"><div class=\"sk-estimator sk-toggleable\"><input class=\"sk-toggleable__control sk-hidden--visually\" id=\"sk-estimator-id-3\" type=\"checkbox\" ><label for=\"sk-estimator-id-3\" class=\"sk-toggleable__label sk-toggleable__label-arrow\">SVC</label><div class=\"sk-toggleable__content\"><pre>SVC(kernel=&#x27;linear&#x27;, probability=True)</pre></div></div></div></div></div></div></div>"
      ],
      "text/plain": [
       "Pipeline(steps=[('vect', TfidfVectorizer()),\n",
       "                ('clf', SVC(kernel='linear', probability=True))])"
      ]
     },
     "execution_count": 14,
     "metadata": {},
     "output_type": "execute_result"
    }
   ],
   "source": [
    "# Fit Model\n",
    "modelo.fit(data, target)"
   ]
  },
  {
   "cell_type": "code",
   "execution_count": 15,
   "id": "64726772",
   "metadata": {},
   "outputs": [
    {
     "data": {
      "text/plain": [
       "array([9], dtype=int64)"
      ]
     },
     "execution_count": 15,
     "metadata": {},
     "output_type": "execute_result"
    }
   ],
   "source": [
    "# Predicting the category from the description\n",
    "modelo.predict([\"Refrigerador Brastemp com função frostfree\"])"
   ]
  },
  {
   "cell_type": "code",
   "execution_count": 16,
   "id": "8c344445",
   "metadata": {},
   "outputs": [
    {
     "name": "stdout",
     "output_type": "stream",
     "text": [
      "eletrodomésticos\n"
     ]
    }
   ],
   "source": [
    "# Predicting the category from the description\n",
    "print (encoder.classes_[9])"
   ]
  },
  {
   "cell_type": "code",
   "execution_count": 17,
   "id": "8f8e61cb",
   "metadata": {},
   "outputs": [],
   "source": [
    "# Probabilities of a product\n",
    "probs = modelo.predict_proba([\"Ventilador\"])"
   ]
  },
  {
   "cell_type": "code",
   "execution_count": 18,
   "id": "02107930",
   "metadata": {},
   "outputs": [
    {
     "name": "stdout",
     "output_type": "stream",
     "text": [
      "[('alimentos e bebidas', 1.490857218834176e-07),\n",
      " ('ar-condicionado e aquecedores', 1.696332007986466e-07),\n",
      " ('automotivo', 1.7197168037992986e-07),\n",
      " ('bebês', 3.431034662792874e-07),\n",
      " ('beleza e saúde', 1.7643548436633242e-07),\n",
      " ('brinquedos', 1.7510481133682117e-05),\n",
      " ('cama, mesa e banho', 1.7951112441902603e-07),\n",
      " ('celulares e telefones', 1.1905604906060375e-05),\n",
      " ('dvds e blu-ray', 2.2257574857902048e-07),\n",
      " ('eletrodomésticos', 7.946287445013626e-07),\n",
      " ('eletroportáteis', 0.999956726892783),\n",
      " ('informática', 2.2652959681312867e-07),\n",
      " ('instrumentos musicais', 7.482884027934183e-07),\n",
      " ('linha industrial', 5.654693879164747e-06),\n",
      " ('livros', 5.755712552858329e-07),\n",
      " ('perfumaria', 2.0092098850058296e-07),\n",
      " ('pet shop', 3.0423491213958033e-07),\n",
      " ('relógios', 1.3115958848755237e-06),\n",
      " ('suplementos e vitaminas', 4.6267559240100573e-07),\n",
      " ('tv e home theater', 2.706444814785229e-07),\n",
      " ('utilidades domésticas', 1.735511550912569e-07),\n",
      " ('áudio', 1.7213698578035609e-06)]\n"
     ]
    }
   ],
   "source": [
    "#  Category probabilities for the Fan object\n",
    "guess = [(class_, probs.item(n)) for n, class_ in enumerate(encoder.classes_)]\n",
    "pprint(guess)"
   ]
  },
  {
   "cell_type": "code",
   "execution_count": 19,
   "id": "862a6d2b",
   "metadata": {},
   "outputs": [
    {
     "name": "stdout",
     "output_type": "stream",
     "text": [
      "eletroportáteis: 1.0000\n",
      "brinquedos: 0.0000\n",
      "celulares e telefones: 0.0000\n",
      "linha industrial: 0.0000\n",
      "áudio: 0.0000\n",
      "relógios: 0.0000\n",
      "eletrodomésticos: 0.0000\n",
      "instrumentos musicais: 0.0000\n",
      "livros: 0.0000\n",
      "suplementos e vitaminas: 0.0000\n",
      "bebês: 0.0000\n",
      "pet shop: 0.0000\n",
      "tv e home theater: 0.0000\n",
      "informática: 0.0000\n",
      "dvds e blu-ray: 0.0000\n",
      "perfumaria: 0.0000\n",
      "cama, mesa e banho: 0.0000\n",
      "beleza e saúde: 0.0000\n",
      "utilidades domésticas: 0.0000\n",
      "automotivo: 0.0000\n",
      "ar-condicionado e aquecedores: 0.0000\n",
      "alimentos e bebidas: 0.0000\n"
     ]
    }
   ],
   "source": [
    "# Adjusted probability of categories for the Fan object\n",
    "from operator import itemgetter\n",
    "for cat, proba in sorted(guess, key = itemgetter(1), reverse = True):\n",
    "    print ('{}: {:.4f}'.format(cat, proba))"
   ]
  }
 ],
 "metadata": {
  "kernelspec": {
   "display_name": "Python 3 (ipykernel)",
   "language": "python",
   "name": "python3"
  },
  "language_info": {
   "codemirror_mode": {
    "name": "ipython",
    "version": 3
   },
   "file_extension": ".py",
   "mimetype": "text/x-python",
   "name": "python",
   "nbconvert_exporter": "python",
   "pygments_lexer": "ipython3",
   "version": "3.9.12"
  }
 },
 "nbformat": 4,
 "nbformat_minor": 5
}
